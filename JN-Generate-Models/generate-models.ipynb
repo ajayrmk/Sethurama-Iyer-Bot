{
 "cells": [
  {
   "cell_type": "code",
   "execution_count": null,
   "id": "35d60a41",
   "metadata": {},
   "outputs": [],
   "source": [
    "# Import required libraries\n",
    "import pandas as pd\n",
    "import pickle\n",
    "from sklearn.feature_extraction.text import TfidfVectorizer\n",
    "from sklearn import svm\n",
    "from sklearn.svm import SVC\n",
    "from sklearn.model_selection import train_test_split\n",
    "\n",
    "# Access and vectorize the data\n",
    "data = pd.read_csv('bbc-text.csv')\n",
    "data.head()"
   ]
  },
  {
   "cell_type": "code",
   "execution_count": 20,
   "id": "70387e70",
   "metadata": {},
   "outputs": [],
   "source": [
    "# Vectorize\n",
    "vectorizer = TfidfVectorizer(sublinear_tf=True, encoding='utf-8',\n",
    "                             decode_error='ignore')\n",
    "\n",
    "# Test, train funcion\n",
    "def train_dataset(data, vectorizer):\n",
    "    tfidf = vectorizer.fit(data[\"text\"].values.astype('U'))\n",
    "    X = vectorizer.fit_transform(data[\"text\"].values.astype('U'))\n",
    "    y = data['category']\n",
    "    X_train,X_test,y_train,y_test = train_test_split(X,y,test_size=.20, random_state=42)\n",
    "    svcclassifier = SVC(kernel = 'linear', random_state = 1)\n",
    "    model = svcclassifier.fit(X_train, y_train)\n",
    "    return model, tfidf\n",
    "    \n",
    "\n",
    "\n",
    "# Call the function to assign values\n",
    "model, vectorizer_model = train_dataset(data, vectorizer)\n"
   ]
  },
  {
   "cell_type": "code",
   "execution_count": 17,
   "id": "a6a17712",
   "metadata": {},
   "outputs": [],
   "source": [
    "#Saving the Model\n",
    "pickle_out = open(\"model.pkl\", \"wb\") \n",
    "pickle.dump(model, pickle_out) \n",
    "pickle_out.close()\n",
    "\n",
    "pickle_out = open(\"vectorizer_model.pkl\", \"wb\") \n",
    "pickle.dump(vectorizer_model, pickle_out) \n",
    "pickle_out.close()"
   ]
  }
 ],
 "metadata": {
  "kernelspec": {
   "display_name": "Python 3",
   "language": "python",
   "name": "python3"
  },
  "language_info": {
   "codemirror_mode": {
    "name": "ipython",
    "version": 3
   },
   "file_extension": ".py",
   "mimetype": "text/x-python",
   "name": "python",
   "nbconvert_exporter": "python",
   "pygments_lexer": "ipython3",
   "version": "3.9.5"
  }
 },
 "nbformat": 4,
 "nbformat_minor": 5
}
