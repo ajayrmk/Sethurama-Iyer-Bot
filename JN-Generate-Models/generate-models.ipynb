{
 "cells": [
  {
   "cell_type": "code",
   "execution_count": 3,
   "id": "35d60a41",
   "metadata": {},
   "outputs": [
    {
     "name": "stdout",
     "output_type": "stream",
     "text": [
      "['tech' 'business' 'sport' 'entertainment' 'politics']\n"
     ]
    }
   ],
   "source": [
    "# Import required libraries\n",
    "import pandas as pd\n",
    "import pickle\n",
    "from sklearn.feature_extraction.text import TfidfVectorizer\n",
    "from sklearn import svm\n",
    "from sklearn.model_selection import train_test_split\n",
    "from sklearn.metrics import accuracy_score\n",
    "from sklearn import linear_model\n",
    "\n",
    "# Access and vectorize the data\n",
    "data = pd.read_csv('bbc-text.csv')\n",
    "vectorizer = TfidfVectorizer(sublinear_tf=True, encoding='utf-8',\n",
    "                             decode_error='ignore')\n",
    "\n",
    "# Test, train\n",
    "def train_dataset(df, vectorizer):\n",
    "    tfidf = vectorizer.fit(df[\"text\"].values.astype('U'))\n",
    "    X = vectorizer.fit_transform(df[\"text\"].values.astype('U'))\n",
    "    y = df['category']\n",
    "    train_test_split(X, y)\n",
    "    model = svm.LinearSVC()\n",
    "    model.fit(X.A, y)\n",
    "    return model, tfidf\n",
    "\n",
    "model, vectorizer_model = train_dataset(data, vectorizer)\n",
    "\n",
    "#Saving the Model\n",
    "pickle_out = open(\"model.pkl\", \"wb\") \n",
    "pickle.dump(model, pickle_out) \n",
    "pickle_out.close()\n",
    "\n",
    "pickle_out = open(\"vectorizer_model.pkl\", \"wb\") \n",
    "pickle.dump(vectorizer_model, pickle_out) \n",
    "pickle_out.close()"
   ]
  }
 ],
 "metadata": {
  "kernelspec": {
   "display_name": "Python 3",
   "language": "python",
   "name": "python3"
  },
  "language_info": {
   "codemirror_mode": {
    "name": "ipython",
    "version": 3
   },
   "file_extension": ".py",
   "mimetype": "text/x-python",
   "name": "python",
   "nbconvert_exporter": "python",
   "pygments_lexer": "ipython3",
   "version": "3.9.5"
  }
 },
 "nbformat": 4,
 "nbformat_minor": 5
}
